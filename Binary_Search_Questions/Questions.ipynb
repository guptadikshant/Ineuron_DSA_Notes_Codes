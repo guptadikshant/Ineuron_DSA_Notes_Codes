{
 "cells": [
  {
   "cell_type": "markdown",
   "id": "c494f940-ed3b-44f1-bcd0-7778c93c6f4f",
   "metadata": {
    "tags": []
   },
   "source": [
    "# Question-1\n",
    "## Two Sum Problem\n",
    "### This problem can be solved by :-\n",
    "    1) Linear Search using 2 for loops --> Time complexity ==> O(n2)\n",
    "    2) Using one for loop and Binary search --> Time complexity ==> O(n log(n))\n",
    "    3) Using 2 pointer approach  --> Time complexity ==> O(n)"
   ]
  },
  {
   "cell_type": "code",
   "execution_count": 9,
   "id": "6203a873-93df-4240-a2f2-aa283b67f110",
   "metadata": {},
   "outputs": [
    {
     "name": "stdout",
     "output_type": "stream",
     "text": [
      "the indices are : [4, 5]\n"
     ]
    }
   ],
   "source": [
    "def twoSum(arr,target):\n",
    "    \n",
    "    start = 0\n",
    "    end = len(arr)-1\n",
    "    \n",
    "    while start <= end:\n",
    "        \n",
    "        if arr[start] + arr[end] == target:\n",
    "            return [start,end]\n",
    "        \n",
    "        elif arr[start] + arr[end] > target:\n",
    "            end = end- 1\n",
    "        \n",
    "        else:\n",
    "            start = start + 1\n",
    "            \n",
    "    return (-1,-1)\n",
    "\n",
    "arr = [10,20,30,50,90,120,260]\n",
    "target = 210\n",
    "result  = twoSum(arr, target)\n",
    "\n",
    "print(f\"the indices are : {result}\")"
   ]
  },
  {
   "cell_type": "markdown",
   "id": "e9532b7b-e4cd-47d4-8414-f34b9cb9542c",
   "metadata": {
    "tags": []
   },
   "source": [
    "# Question-2\n",
    "## Best time to buy and sell the stock\n",
    "#### time complexity of this solution is O(n)"
   ]
  },
  {
   "cell_type": "code",
   "execution_count": 18,
   "id": "67910759-ea6f-4070-82e1-71521849bbf7",
   "metadata": {},
   "outputs": [
    {
     "name": "stdout",
     "output_type": "stream",
     "text": [
      "the maximum profit is : 13\n"
     ]
    }
   ],
   "source": [
    "def findmaxProfit(prices):\n",
    "    \n",
    "    minPrice = float(\"inf\")\n",
    "    maxProfit = 0\n",
    "    \n",
    "    for i in range(len(prices)):\n",
    "        \n",
    "        # below statement first find the minimum price and for that\n",
    "        # min price it will subract from current price \n",
    "        if prices[i] < minPrice:\n",
    "            minPrice = prices[i]\n",
    "        # after finding the min price subtract it from the current element and \n",
    "        # compare it with the maxProfit to get the max profit\n",
    "        elif prices[i] - minPrice > maxProfit:\n",
    "            maxProfit = prices[i] - minPrice\n",
    "            \n",
    "    return maxProfit\n",
    "\n",
    "\n",
    "prices = [7,4,5,3,6,16]\n",
    "\n",
    "print(f\"the maximum profit is : {findmaxProfit(prices)}\")"
   ]
  },
  {
   "cell_type": "markdown",
   "id": "116ac250-2b1d-4847-8e1d-381a6fc0d8dc",
   "metadata": {},
   "source": [
    "# Question-3\n",
    "## Finding element in 2D array\n",
    "### We can use Binary search if the array is sorted giving time complexity as O(log(m*n))\n",
    "### Formula to find the row number and column in 2D array is:\n",
    "    row_number = mid // n\n",
    "    column_number = mid % n\n",
    "    \n",
    "    where n = number of columns"
   ]
  },
  {
   "cell_type": "code",
   "execution_count": 26,
   "id": "8cc7f54a-39c5-4b04-a76d-85979a7af50c",
   "metadata": {},
   "outputs": [
    {
     "name": "stdout",
     "output_type": "stream",
     "text": [
      "the indices at which target present are : [2, 3]\n"
     ]
    }
   ],
   "source": [
    "def findEletwoD(arr,target):\n",
    "    \n",
    "    rows = len(arr) # number of rows\n",
    "    cols = len(arr[0]) # number of columns\n",
    "    \n",
    "    start = 0 # start index of the array\n",
    "    end = (rows * cols) - 1 # end index of the array\n",
    "    \n",
    "    while start <= end:\n",
    "        \n",
    "        mid = start + (end-1) // 2\n",
    "        \n",
    "        row_number = mid // cols\n",
    "        col_number = mid % cols\n",
    "        \n",
    "        if arr[row_number][col_number] == target:\n",
    "            return [row_number, col_number]\n",
    "        \n",
    "        elif arr[row_number][col_number] < target:\n",
    "            start += 1\n",
    "        \n",
    "        else:\n",
    "            end -= 1\n",
    "            \n",
    "    return [-1,-1]\n",
    "\n",
    "\n",
    "arr = [[1,3,5,7],[10,11,16,20],[23,30,34,60]]\n",
    "target = 60\n",
    "\n",
    "print(f\"the indices at which target present are : {findEletwoD(arr,target)}\")"
   ]
  },
  {
   "cell_type": "code",
   "execution_count": null,
   "id": "429d76b1-fd8d-491b-8f6e-a2ab91d65b78",
   "metadata": {},
   "outputs": [],
   "source": []
  },
  {
   "cell_type": "code",
   "execution_count": null,
   "id": "3c75044f-985d-4c01-ab76-4de7fae127a3",
   "metadata": {},
   "outputs": [],
   "source": []
  },
  {
   "cell_type": "code",
   "execution_count": null,
   "id": "9f3f499c-be9d-4599-aef0-08c7e7c04dca",
   "metadata": {},
   "outputs": [],
   "source": []
  },
  {
   "cell_type": "code",
   "execution_count": null,
   "id": "d6239583-8f78-4f92-83af-ece5e25ca596",
   "metadata": {},
   "outputs": [],
   "source": []
  },
  {
   "cell_type": "code",
   "execution_count": null,
   "id": "e3a76ce0-10eb-46f4-b85b-d4473edfcb37",
   "metadata": {},
   "outputs": [],
   "source": []
  },
  {
   "cell_type": "code",
   "execution_count": null,
   "id": "da18448f-1d04-4dad-87eb-69a96deab13c",
   "metadata": {},
   "outputs": [],
   "source": []
  },
  {
   "cell_type": "code",
   "execution_count": null,
   "id": "b4d131e6-8599-4226-901c-63b4e66038ab",
   "metadata": {},
   "outputs": [],
   "source": []
  },
  {
   "cell_type": "code",
   "execution_count": null,
   "id": "34cc7898-c8bb-4bc8-b714-7740cae7fde8",
   "metadata": {},
   "outputs": [],
   "source": []
  },
  {
   "cell_type": "code",
   "execution_count": null,
   "id": "ac9c681f-221e-4da7-871e-f2ba9d062fc7",
   "metadata": {},
   "outputs": [],
   "source": []
  }
 ],
 "metadata": {
  "kernelspec": {
   "display_name": "Python 3 (ipykernel)",
   "language": "python",
   "name": "python3"
  },
  "language_info": {
   "codemirror_mode": {
    "name": "ipython",
    "version": 3
   },
   "file_extension": ".py",
   "mimetype": "text/x-python",
   "name": "python",
   "nbconvert_exporter": "python",
   "pygments_lexer": "ipython3",
   "version": "3.9.7"
  }
 },
 "nbformat": 4,
 "nbformat_minor": 5
}
